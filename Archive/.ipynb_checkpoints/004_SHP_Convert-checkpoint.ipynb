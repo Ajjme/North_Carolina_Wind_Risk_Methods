{
 "cells": [
  {
   "cell_type": "code",
   "execution_count": null,
   "metadata": {},
   "outputs": [],
   "source": [
    "#converting shapefile to LCC"
   ]
  },
  {
   "cell_type": "code",
   "execution_count": 8,
   "metadata": {},
   "outputs": [
    {
     "name": "stdout",
     "output_type": "stream",
     "text": [
      "Shapefile reprojected and saved to ESDA_acv_project/NC_shapefile_in_LCC.shp\n"
     ]
    }
   ],
   "source": [
    "import geopandas as gpd\n",
    "from pyproj import CRS\n",
    "\n",
    "# Load the shapefile\n",
    "shapefile_path = \"/data/HW/HW2/NCDOT_County_Boundaries.shp\"\n",
    "gdf = gpd.read_file(shapefile_path)\n",
    "\n",
    "# Define Lambert Conformal Conic projection\n",
    "lcc_crs = CRS.from_proj4(\n",
    "    \"+proj=lcc +lat_1=30 +lat_2=50 +lat_0=39.10001 \"\n",
    "    \"+lon_0=-97.89999 +datum=WGS84 +units=m +no_defs\"\n",
    ")\n",
    "\n",
    "# Reproject to LCC\n",
    "gdf_lcc = gdf.to_crs(lcc_crs.to_wkt())\n",
    "\n",
    "# Save the reprojected shapefile\n",
    "output_path = \"ESDA_acv_project/NC_shapefile_in_LCC.shp\"\n",
    "gdf_lcc.to_file(output_path)\n",
    "print(f\"Shapefile reprojected and saved to {output_path}\")\n"
   ]
  },
  {
   "cell_type": "code",
   "execution_count": 5,
   "metadata": {},
   "outputs": [
    {
     "name": "stdout",
     "output_type": "stream",
     "text": [
      "/home/jovyan/work/ESDA_AJJ54\n"
     ]
    }
   ],
   "source": [
    "%%bash\n",
    "pwd"
   ]
  },
  {
   "cell_type": "code",
   "execution_count": null,
   "metadata": {},
   "outputs": [],
   "source": []
  }
 ],
 "metadata": {
  "kernelspec": {
   "display_name": "Python 3",
   "language": "python",
   "name": "python3"
  },
  "language_info": {
   "codemirror_mode": {
    "name": "ipython",
    "version": 3
   },
   "file_extension": ".py",
   "mimetype": "text/x-python",
   "name": "python",
   "nbconvert_exporter": "python",
   "pygments_lexer": "ipython3",
   "version": "3.7.3"
  }
 },
 "nbformat": 4,
 "nbformat_minor": 2
}
