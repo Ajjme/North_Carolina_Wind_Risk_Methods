{
 "cells": [
  {
   "cell_type": "markdown",
   "metadata": {},
   "source": [
    "# Vulnerability Map"
   ]
  },
  {
   "cell_type": "code",
   "execution_count": 7,
   "metadata": {},
   "outputs": [],
   "source": [
    "import xarray as xr\n",
    "import pandas as pd\n",
    "import ipywidgets as widgets\n",
    "from IPython.display import display\n",
    "import numpy as np"
   ]
  },
  {
   "cell_type": "code",
   "execution_count": 9,
   "metadata": {},
   "outputs": [
    {
     "data": {
      "text/html": [
       "<div>\n",
       "<style scoped>\n",
       "    .dataframe tbody tr th:only-of-type {\n",
       "        vertical-align: middle;\n",
       "    }\n",
       "\n",
       "    .dataframe tbody tr th {\n",
       "        vertical-align: top;\n",
       "    }\n",
       "\n",
       "    .dataframe thead th {\n",
       "        text-align: right;\n",
       "    }\n",
       "</style>\n",
       "<table border=\"1\" class=\"dataframe\">\n",
       "  <thead>\n",
       "    <tr style=\"text-align: right;\">\n",
       "      <th></th>\n",
       "      <th>structural $/m²</th>\n",
       "    </tr>\n",
       "    <tr>\n",
       "      <th>NLCD Mapping</th>\n",
       "      <th></th>\n",
       "    </tr>\n",
       "  </thead>\n",
       "  <tbody>\n",
       "    <tr>\n",
       "      <th>Developed High Intensity</th>\n",
       "      <td>363.591983</td>\n",
       "    </tr>\n",
       "    <tr>\n",
       "      <th>Developed Medium Intensity</th>\n",
       "      <td>258.452567</td>\n",
       "    </tr>\n",
       "    <tr>\n",
       "      <th>Developed Low Intensity</th>\n",
       "      <td>148.413931</td>\n",
       "    </tr>\n",
       "    <tr>\n",
       "      <th>Developed Open Space</th>\n",
       "      <td>39.007545</td>\n",
       "    </tr>\n",
       "    <tr>\n",
       "      <th>Pasture/Hay</th>\n",
       "      <td>35.042232</td>\n",
       "    </tr>\n",
       "    <tr>\n",
       "      <th>Cultivated Crops</th>\n",
       "      <td>35.042232</td>\n",
       "    </tr>\n",
       "    <tr>\n",
       "      <th>Deciduous Forest</th>\n",
       "      <td>0.000000</td>\n",
       "    </tr>\n",
       "    <tr>\n",
       "      <th>Evergreen Forest</th>\n",
       "      <td>0.000000</td>\n",
       "    </tr>\n",
       "    <tr>\n",
       "      <th>Mixed Forest</th>\n",
       "      <td>0.000000</td>\n",
       "    </tr>\n",
       "    <tr>\n",
       "      <th>Grasslands/Herbaceous</th>\n",
       "      <td>35.042232</td>\n",
       "    </tr>\n",
       "  </tbody>\n",
       "</table>\n",
       "</div>"
      ],
      "text/plain": [
       "                            structural $/m²\n",
       "NLCD Mapping                               \n",
       "Developed High Intensity         363.591983\n",
       "Developed Medium Intensity       258.452567\n",
       "Developed Low Intensity          148.413931\n",
       "Developed Open Space              39.007545\n",
       "Pasture/Hay                       35.042232\n",
       "Cultivated Crops                  35.042232\n",
       "Deciduous Forest                   0.000000\n",
       "Evergreen Forest                   0.000000\n",
       "Mixed Forest                       0.000000\n",
       "Grasslands/Herbaceous             35.042232"
      ]
     },
     "execution_count": 9,
     "metadata": {},
     "output_type": "execute_result"
    }
   ],
   "source": [
    "info_damage_curve = pd.read_excel('Land_cover_damage_info_curves.xlsx', index_col=2)\n",
    "# get the maxdamage for reconstruction\n",
    "maxdam = pd.DataFrame(info_damage_curve['structural $/m²'])\n",
    "maxdam.to_csv(f'maxdam.csv')\n",
    "maxdam.head(10)"
   ]
  },
  {
   "cell_type": "code",
   "execution_count": null,
   "metadata": {},
   "outputs": [],
   "source": [
    "#Next step is to add this value to the land cover tiff and then map that out.\n",
    "# if file to big could use this to convert classes into values that I can scale up with GDAL?"
   ]
  }
 ],
 "metadata": {
  "kernelspec": {
   "display_name": "Python 3",
   "language": "python",
   "name": "python3"
  },
  "language_info": {
   "codemirror_mode": {
    "name": "ipython",
    "version": 3
   },
   "file_extension": ".py",
   "mimetype": "text/x-python",
   "name": "python",
   "nbconvert_exporter": "python",
   "pygments_lexer": "ipython3",
   "version": "3.7.3"
  }
 },
 "nbformat": 4,
 "nbformat_minor": 2
}
