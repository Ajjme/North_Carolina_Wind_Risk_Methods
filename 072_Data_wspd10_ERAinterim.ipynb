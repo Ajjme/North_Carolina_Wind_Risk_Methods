{
 "cells": [
  {
   "cell_type": "code",
   "execution_count": null,
   "metadata": {},
   "outputs": [],
   "source": [
    "#One time step ERA interim"
   ]
  },
  {
   "cell_type": "code",
   "execution_count": 7,
   "metadata": {},
   "outputs": [],
   "source": [
    "import xarray as xr\n",
    "import geopandas as gpd\n",
    "import matplotlib.pyplot as plt\n",
    "import numpy as np\n",
    "import datetime\n",
    "# Load data\n",
    "file = '/data/era-interim/era_interim_monthly_197901_201512_upscaled.nc_ann'\n",
    "ds = xr.open_dataset(file)\n",
    "\n",
    "ds = ds.assign_coords(lon=((ds.lon + 180) % 360) - 180)\n",
    "\n",
    "lat = ds.lat\n",
    "lon = ds.lon\n",
    "\n",
    "output_era = {}\n",
    "vars = ['cape', 'tau_x', 'tau_y', 'wspd10']\n",
    "\n",
    "# Define bounding box\n",
    "lat_min, lat_max = 30, 40\n",
    "lon_min, lon_max = -90, -70\n",
    "\n",
    "# Find indices within the bounding box\n",
    "lat_idx = np.where((lat >= lat_min) & (lat <= lat_max))[0]\n",
    "lon_idx = np.where((lon >= lon_min) & (lon <= lon_max))[0]\n",
    "\n",
    "# Subset the data\n",
    "for var in vars:\n",
    "    if var in ds.variables:\n",
    "        output_era[var] = ds[var][:, lat_idx[0]:lat_idx[-1]+1, lon_idx[0]:lon_idx[-1]+1]\n",
    "\n",
    "output_era[\"dates\"] = ds['time']\n",
    "# decoded_times = times.dt  # Access time properties\n",
    "\n",
    "# # Add dates to a new variable or use directly\n",
    "# ds['dates'] = decoded_times\n",
    "\n",
    "ds.close()\n",
    "\n",
    "import pandas as pd\n",
    "\n",
    "# Extract time coordinate as pandas datetime objects\n",
    "dates_era = pd.to_datetime(output_era[\"dates\"].values)\n",
    "\n",
    "# Define the filtering range\n",
    "start_date = datetime.datetime(2002, 1, 1)\n",
    "end_date = datetime.datetime(2003, 1, 31)\n",
    "\n",
    "# Apply the date filter\n",
    "m_era = (dates_era >= start_date)& (dates_era <= end_date)\n",
    "\n",
    "# Filtered dates (optional: store back in output_era if needed)\n",
    "filtered_dates = dates_era[m_era]"
   ]
  },
  {
   "cell_type": "code",
   "execution_count": 8,
   "metadata": {},
   "outputs": [
    {
     "name": "stdout",
     "output_type": "stream",
     "text": [
      "DatetimeIndex(['2002-07-01 06:00:00'], dtype='datetime64[ns]', freq=None)\n"
     ]
    }
   ],
   "source": [
    "print(filtered_dates)"
   ]
  },
  {
   "cell_type": "code",
   "execution_count": 9,
   "metadata": {},
   "outputs": [
    {
     "data": {
      "image/png": "[encoded data removed]",
      "text/plain": [
       "<Figure size 576x432 with 2 Axes>"
      ]
     },
     "metadata": {
      "needs_background": "light"
     },
     "output_type": "display_data"
    }
   ],
   "source": [
    "info = {\n",
    "    #'cape': {'cmap': 'terrain', 'title': \"Convective Available Potential Energy (J/kg)\"},\n",
    "    #'tau_x': {'cmap': 'RdBu_r', 'title': \"Surface Zonal Wind Stress (dPa)\"},\n",
    "    #'tau_y': {'cmap': 'Blues', 'title': 'Surface Meridional Wind Stress (dPa)'},\n",
    "    'wspd10': {'cmap': 'jet', 'title': 'Wind Speed at 10m (m/s)'}\n",
    "}\n",
    "\n",
    "# Load the shapefile\n",
    "shapefile_path = \"/data/HW/HW2/NCDOT_County_Boundaries.shp\"\n",
    "counties = gpd.read_file(shapefile_path)\n",
    "counties = counties.to_crs(epsg=4326)\n",
    "var = 'wspd10'\n",
    "\n",
    "# Calculate the mean over the desired axis (e.g., time axis)\n",
    "data_to_plot = np.mean(output_era[var], axis=0)\n",
    "\n",
    "# Define the extent for the plot using lon and lat\n",
    "lon_min, lon_max = np.min(lon[lon_idx]), np.max(lon[lon_idx])\n",
    "lat_min, lat_max = np.min(lat[lat_idx]), np.max(lat[lat_idx])\n",
    "\n",
    "# Plot using imshow\n",
    "plt.figure(figsize=(8, 6))\n",
    "\n",
    "plt.imshow(\n",
    "    data_to_plot,\n",
    "    cmap=plt.get_cmap(info[var]['cmap']),\n",
    "    extent=[lon_min, lon_max, lat_min, lat_max],\n",
    "    origin='lower',  # Ensure the origin is at the bottom-left\n",
    ")\n",
    "\n",
    "counties.boundary.plot(ax=plt.gca(), color='black', linewidth=1) #add the mess grid as the x and Y\n",
    "plt.colorbar(label=var)\n",
    "plt.xlabel('Longitude')\n",
    "plt.ylabel('Latitude')\n",
    "plt.title(f'Mean {var}')\n",
    "\n",
    "plt.show()"
   ]
  },
  {
   "cell_type": "code",
   "execution_count": null,
   "metadata": {},
   "outputs": [],
   "source": []
  }
 ],
 "metadata": {
  "kernelspec": {
   "display_name": "Python 3",
   "language": "python",
   "name": "python3"
  },
  "language_info": {
   "codemirror_mode": {
    "name": "ipython",
    "version": 3
   },
   "file_extension": ".py",
   "mimetype": "text/x-python",
   "name": "python",
   "nbconvert_exporter": "python",
   "pygments_lexer": "ipython3",
   "version": "3.7.3"
  }
 },
 "nbformat": 4,
 "nbformat_minor": 2
}
