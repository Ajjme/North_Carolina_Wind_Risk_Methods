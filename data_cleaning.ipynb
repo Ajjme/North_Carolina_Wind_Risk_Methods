{
 "cells": [
  {
   "cell_type": "code",
   "execution_count": 1,
   "metadata": {},
   "outputs": [],
   "source": [
    "## import packages\n",
    "\n",
    "import numpy as np\n",
    "import pandas as pd \n",
    "import seaborn as sns \n",
    "import matplotlib.pyplot as plt\n",
    "import tarfile\n",
    "import glob\n",
    "import xarray as xr\n",
    "import time\n",
    "import shutil"
   ]
  },
  {
   "cell_type": "markdown",
   "metadata": {},
   "source": [
    "## Extracts only the u and v components for one month (one of the tar files)\n",
    "135 lat, 236 lon, at 15 minute time intervals "
   ]
  },
  {
   "cell_type": "code",
   "execution_count": 2,
   "metadata": {},
   "outputs": [
    {
     "name": "stdout",
     "output_type": "stream",
     "text": [
      "The code took 24.69 seconds, and the file is 0.37953 gigs\n"
     ]
    }
   ],
   "source": [
    "# file of interest\n",
    "\n",
    "## created a list of all tar files. Need to have saved the downloaded files into folder titled ncar_data\n",
    "file_list=glob.glob('ncar_data/*')\n",
    "## choose tar file here. This is just arbitrarily the first one in the list\n",
    "temp_file=file_list[0]\n",
    "\n",
    "## intialize timer and dictionary to store u and v values\n",
    "start_time=time.time()\n",
    "u_dict={}\n",
    "v_dict={}\n",
    "\n",
    "# extract tarfile\n",
    "with tarfile.open(temp_file, 'r') as tar:\n",
    "    tar.extractall(path='ncar_extracted') \n",
    "## create list of all files within subfile.\n",
    "## They separate into seperate files for USHR (u comp),VSHR (v comp), and SRH001 (storm relative helicity, which I ignored) every 15 minutes\n",
    "subfile_list=glob.glob('ncar_extracted/'+temp_file[-10:-4]+'/*')\n",
    "\n",
    "## iterate through list and add the slices for the u and v comps to the corresponding dictionaries\n",
    "for subfile in subfile_list:\n",
    "    if 'USHR1' in subfile:\n",
    "        fp=xr.open_dataset(subfile)\n",
    "        u_dict['u_'+subfile[-20:-3]]=xr.DataArray(data=np.empty(tuple(fp.sizes[dim] for dim in fp.dims)),dims=fp.dims,coords=fp.coords)\n",
    "        fp.close()\n",
    "    if 'VSHR1' in subfile:\n",
    "        fp=xr.open_dataset(subfile)\n",
    "        v_dict['v_'+subfile[-20:-3]]=xr.DataArray(data=np.empty(tuple(fp.sizes[dim] for dim in fp.dims)),dims=fp.dims,coords=fp.coords)\n",
    "        fp.close()\n",
    "        \n",
    "## concatenate saved xarrays across the 15 minute intervals \n",
    "all_u=xr.concat(list(u_dict.values()), dim='Time')\n",
    "all_v=xr.concat(list(v_dict.values()), dim='Time')\n",
    "\n",
    "## combine the u and v components into 1 array\n",
    "combined_array=xr.Dataset({'u':all_u,'v':all_v})\n",
    "\n",
    "## save_file (can comment out)\n",
    "combined_array.to_netcdf('cleaned_monthly/'+temp_file[-10:-4]+'.nc')\n",
    "## remove the extracted files (the are really big)\n",
    "shutil.rmtree('ncar_extracted/'+temp_file[-10:-4])\n",
    "\n",
    "## print elasped time and size\n",
    "end_time=time.time()\n",
    "elapsed_time=end_time-start_time\n",
    "file_size=combined_array.nbytes/1e9\n",
    "print('The code took %.2f seconds, and the file is %.5f gigs'%(elapsed_time,file_size))"
   ]
  },
  {
   "cell_type": "code",
   "execution_count": 3,
   "metadata": {},
   "outputs": [
    {
     "name": "stdout",
     "output_type": "stream",
     "text": [
      "If we run for all 516 files, the code will take 3.54 hours and  195.84 gigs of storage\n"
     ]
    }
   ],
   "source": [
    "## extrapolate for all files\n",
    "number_files=len(file_list)\n",
    "total_time=(elapsed_time*number_files/3600)\n",
    "total_size=file_size*number_files\n",
    "print('If we run for all %i files, the code will take %.2f hours and  %.2f gigs of storage'%(number_files,total_time,total_size))"
   ]
  }
 ],
 "metadata": {
  "kernelspec": {
   "display_name": "Python 3",
   "language": "python",
   "name": "python3"
  },
  "language_info": {
   "codemirror_mode": {
    "name": "ipython",
    "version": 3
   },
   "file_extension": ".py",
   "mimetype": "text/x-python",
   "name": "python",
   "nbconvert_exporter": "python",
   "pygments_lexer": "ipython3",
   "version": "3.7.3"
  }
 },
 "nbformat": 4,
 "nbformat_minor": 2
}
