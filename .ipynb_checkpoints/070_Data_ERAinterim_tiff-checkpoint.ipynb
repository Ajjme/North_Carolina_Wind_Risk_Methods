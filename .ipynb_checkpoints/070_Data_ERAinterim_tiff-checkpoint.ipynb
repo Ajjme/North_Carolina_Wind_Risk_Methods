{
 "cells": [
  {
   "cell_type": "code",
   "execution_count": null,
   "metadata": {},
   "outputs": [],
   "source": [
    "One time step ERA 5"
   ]
  },
  {
   "cell_type": "code",
   "execution_count": 7,
   "metadata": {},
   "outputs": [],
   "source": [
    "import xarray as xr\n",
    "import geopandas as gpd\n",
    "import matplotlib.pyplot as plt\n",
    "import numpy as np\n",
    "import datetime\n",
    "# Load data\n",
    "file = '/data/era-interim/era_interim_monthly_197901_201512_upscaled.nc_ann'\n",
    "ds = xr.open_dataset(file)\n",
    "\n",
    "ds = ds.assign_coords(lon=((ds.lon + 180) % 360) - 180)\n",
    "\n",
    "lat = ds.lat\n",
    "lon = ds.lon\n",
    "\n",
    "output_era = {}\n",
    "vars = ['wspd10']\n",
    "\n",
    "# Define bounding box\n",
    "lat_min, lat_max = 30, 40\n",
    "lon_min, lon_max = -90, -70\n",
    "\n",
    "# Find indices within the bounding box\n",
    "lat_idx = np.where((lat >= lat_min) & (lat <= lat_max))[0]\n",
    "lon_idx = np.where((lon >= lon_min) & (lon <= lon_max))[0]\n",
    "\n",
    "# # Subset the data\n",
    "for var in vars:\n",
    "    if var in ds.variables:\n",
    "        output_era[var] = ds[var][:, lat_idx[0]:lat_idx[-1]+1, lon_idx[0]:lon_idx[-1]+1]\n",
    "\n",
    "output_era[\"dates\"] = ds['time']\n",
    "# decoded_times = times.dt  # Access time properties\n",
    "\n",
    "# # Add dates to a new variable or use directly\n",
    "# ds['dates'] = decoded_times\n",
    "\n",
    "ds.close()\n",
    "\n",
    "import pandas as pd\n",
    "\n",
    "# Extract time coordinate as pandas datetime objects\n",
    "dates_era = pd.to_datetime(output_era[\"dates\"].values)\n",
    "\n",
    "# Define the filtering range\n",
    "start_date = datetime.datetime(1980, 1, 1)\n",
    "end_date = datetime.datetime(2018, 1, 31)\n",
    "\n",
    "# Apply the date filter\n",
    "m_era = (dates_era >= start_date)& (dates_era <= end_date)\n",
    "\n",
    "# Filtered dates (optional: store back in output_era if needed)\n",
    "filtered_dates = dates_era[m_era]"
   ]
  },
  {
   "cell_type": "code",
   "execution_count": 11,
   "metadata": {},
   "outputs": [
    {
     "name": "stdout",
     "output_type": "stream",
     "text": [
      "<xarray.DataArray 'wspd10' (time: 37, lat: 10, lon: 16)>\n",
      "array([[[3.535101, 3.788974, ..., 6.40852 , 6.401814],\n",
      "        [2.695426, 2.678524, ..., 6.650583, 6.655698],\n",
      "        ...,\n",
      "        [3.624588, 3.680243, ..., 7.228336, 7.37412 ],\n",
      "        [3.917749, 3.979018, ..., 7.204559, 7.308338]],\n",
      "\n",
      "       [[3.392675, 3.648205, ..., 6.636065, 6.595794],\n",
      "        [2.561105, 2.543449, ..., 7.052093, 7.011689],\n",
      "        ...,\n",
      "        [3.580439, 3.640105, ..., 7.601759, 7.826365],\n",
      "        [3.86027 , 3.923925, ..., 7.602716, 7.821106]],\n",
      "\n",
      "       ...,\n",
      "\n",
      "       [[3.155671, 3.405415, ..., 6.13608 , 6.060438],\n",
      "        [2.557766, 2.524262, ..., 6.381375, 6.249549],\n",
      "        ...,\n",
      "        [3.581743, 3.64977 , ..., 7.60244 , 7.912533],\n",
      "        [3.933095, 4.008154, ..., 7.346227, 7.6771  ]],\n",
      "\n",
      "       [[3.201868, 3.529216, ..., 6.514022, 6.442994],\n",
      "        [2.588353, 2.586043, ..., 6.816088, 6.718678],\n",
      "        ...,\n",
      "        [3.434315, 3.49648 , ..., 7.444544, 7.730857],\n",
      "        [3.79216 , 3.859092, ..., 7.265845, 7.507411]]], dtype=float32)\n",
      "Coordinates:\n",
      "  * time     (time) datetime64[ns] 1979-07-01T06:00:00 ... 2015-07-01T06:00:00\n",
      "  * lon      (lon) float32 -89.84375 -88.59592 ... -72.374146 -71.12631\n",
      "  * lat      (lat) float32 30.5 31.5 32.5 33.5 34.5 35.5 36.5 37.5 38.5 39.5\n",
      "Attributes:\n",
      "    long_name:  wind speed at 10m\n",
      "    units:      m/s\n",
      "    history:    From /dev/shm/monthly_an_sfc.nc\n"
     ]
    }
   ],
   "source": [
    "print(output_era[\"wspd10\"])"
   ]
  },
  {
   "cell_type": "code",
   "execution_count": 9,
   "metadata": {},
   "outputs": [
    {
     "data": {
      "image/png": "[encoded data removed]",
      "text/plain": [
       "<Figure size 576x432 with 2 Axes>"
      ]
     },
     "metadata": {
      "needs_background": "light"
     },
     "output_type": "display_data"
    }
   ],
   "source": [
    "# info = {\n",
    "#     #'cape': {'cmap': 'terrain', 'title': \"Convective Available Potential Energy (J/kg)\"},\n",
    "#     #'tau_x': {'cmap': 'RdBu_r', 'title': \"Surface Zonal Wind Stress (dPa)\"},\n",
    "#     #'tau_y': {'cmap': 'Blues', 'title': 'Surface Meridional Wind Stress (dPa)'},\n",
    "#     'wspd10': {'cmap': 'jet', 'title': 'Wind Speed at 10m (m/s)'}\n",
    "# }\n",
    "\n",
    "# Load the shapefile\n",
    "shapefile_path = \"/data/HW/HW2/NCDOT_County_Boundaries.shp\"\n",
    "counties = gpd.read_file(shapefile_path)\n",
    "counties = counties.to_crs(epsg=4326)\n",
    "var = 'wspd10'\n",
    "\n",
    "# Calculate the mean over the desired axis (e.g., time axis)\n",
    "data_to_plot = np.max(output_era[var], axis=0)\n",
    "\n",
    "# Define the extent for the plot using lon and lat\n",
    "lon_min, lon_max = np.min(lon[lon_idx]), np.max(lon[lon_idx])\n",
    "lat_min, lat_max = np.min(lat[lat_idx]), np.max(lat[lat_idx])\n",
    "\n",
    "# Plot using imshow\n",
    "plt.figure(figsize=(8, 6))\n",
    "\n",
    "plt.imshow(\n",
    "    data_to_plot,\n",
    "    cmap=plt.get_cmap(info[var]['cmap']),\n",
    "    extent=[lon_min, lon_max, lat_min, lat_max],\n",
    "    origin='lower',  # Ensure the origin is at the bottom-left\n",
    ")\n",
    "\n",
    "counties.boundary.plot(ax=plt.gca(), color='black', linewidth=1) #add the mess grid as the x and Y\n",
    "plt.colorbar(label=var)\n",
    "plt.xlabel('Longitude')\n",
    "plt.ylabel('Latitude')\n",
    "plt.title(f'Max {var}')\n",
    "\n",
    "plt.show()"
   ]
  },
  {
   "cell_type": "markdown",
   "metadata": {},
   "source": [
    "Convert to tif"
   ]
  },
  {
   "cell_type": "code",
   "execution_count": 12,
   "metadata": {},
   "outputs": [
    {
     "name": "stdout",
     "output_type": "stream",
     "text": [
      "<xarray.DataArray 'wspd10' (lat: 10, lon: 16)>\n",
      "array([[3.598855, 3.862967, 3.92294 , 4.075873, 3.265246, 3.171868, 2.82649 ,\n",
      "        5.113911, 6.704629, 6.774958, 6.728316, 6.719275, 6.762216, 6.74546 ,\n",
      "        6.807871, 6.885127],\n",
      "       [2.737111, 2.718624, 2.76637 , 2.951283, 3.052893, 3.183759, 3.067838,\n",
      "        5.080922, 6.947204, 7.004352, 7.059196, 7.09816 , 7.180694, 7.135866,\n",
      "        7.128556, 7.223405],\n",
      "       [2.875902, 2.766701, 2.78617 , 2.878279, 2.930864, 3.050323, 3.197437,\n",
      "        3.728225, 6.134005, 7.131152, 7.308387, 7.406579, 7.510827, 7.54168 ,\n",
      "        7.558488, 7.642363],\n",
      "       [3.057362, 2.800315, 2.825607, 2.912264, 2.967352, 2.918197, 3.009767,\n",
      "        3.251503, 4.28264 , 6.308271, 7.069452, 7.613979, 7.786444, 7.88047 ,\n",
      "        7.969088, 8.034336],\n",
      "       [3.220496, 2.904313, 2.897839, 2.933038, 2.934284, 2.827787, 2.807544,\n",
      "        2.949406, 3.311417, 3.720149, 5.544251, 7.598541, 7.964746, 8.224618,\n",
      "        8.378181, 8.447142],\n",
      "       [3.490694, 3.09648 , 2.983098, 3.005193, 2.928741, 2.777918, 2.786236,\n",
      "        2.844538, 2.992535, 3.275635, 3.827486, 6.270164, 7.856403, 8.271191,\n",
      "        8.631764, 8.774885],\n",
      "       [3.569234, 3.229382, 3.028469, 3.049055, 3.034554, 2.942185, 2.958478,\n",
      "        3.008306, 2.964229, 3.037493, 3.389322, 5.730363, 7.691886, 8.017611,\n",
      "        8.553892, 8.909086],\n",
      "       [3.344507, 3.288692, 3.304633, 3.073359, 3.071556, 3.070049, 3.069137,\n",
      "        3.219209, 3.075081, 2.92961 , 3.138588, 5.235275, 7.430916, 7.844579,\n",
      "        8.239923, 8.71598 ],\n",
      "       [3.80829 , 3.845685, 3.626286, 3.309243, 3.208713, 3.119014, 3.035524,\n",
      "        3.126231, 3.171634, 3.02141 , 3.038561, 3.806904, 6.677407, 7.698983,\n",
      "        8.035072, 8.36621 ],\n",
      "       [4.157798, 4.240478, 4.074172, 4.028232, 3.955339, 3.799722, 3.29997 ,\n",
      "        3.170707, 3.324334, 3.302694, 3.244952, 3.619549, 5.191893, 7.078699,\n",
      "        7.875547, 8.066819]], dtype=float32)\n",
      "Coordinates:\n",
      "  * lon      (lon) float32 -89.84375 -88.59592 ... -72.374146 -71.12631\n",
      "  * lat      (lat) float32 30.5 31.5 32.5 33.5 34.5 35.5 36.5 37.5 38.5 39.5\n"
     ]
    }
   ],
   "source": [
    "print(data_to_plot)"
   ]
  },
  {
   "cell_type": "markdown",
   "metadata": {},
   "source": [
    "Make Bar graph"
   ]
  },
  {
   "cell_type": "code",
   "execution_count": 14,
   "metadata": {},
   "outputs": [
    {
     "ename": "ModuleNotFoundError",
     "evalue": "No module named 'rioxarray'",
     "output_type": "error",
     "traceback": [
      "\u001b[0;31m\u001b[0m",
      "\u001b[0;31mModuleNotFoundError\u001b[0mTraceback (most recent call last)",
      "\u001b[0;32m<ipython-input-14-6a0a5fdbe194>\u001b[0m in \u001b[0;36m<module>\u001b[0;34m\u001b[0m\n\u001b[0;32m----> 1\u001b[0;31m \u001b[0;32mimport\u001b[0m \u001b[0mrioxarray\u001b[0m\u001b[0;34m\u001b[0m\u001b[0;34m\u001b[0m\u001b[0m\n\u001b[0m\u001b[1;32m      2\u001b[0m \u001b[0moutput_tif_path\u001b[0m \u001b[0;34m=\u001b[0m \u001b[0;34m\"wind_speed.tif\"\u001b[0m\u001b[0;34m\u001b[0m\u001b[0;34m\u001b[0m\u001b[0m\n\u001b[1;32m      3\u001b[0m \u001b[0mdata_to_plot\u001b[0m\u001b[0;34m.\u001b[0m\u001b[0mrio\u001b[0m\u001b[0;34m.\u001b[0m\u001b[0mto_raster\u001b[0m\u001b[0;34m(\u001b[0m\u001b[0moutput_tif_path\u001b[0m\u001b[0;34m)\u001b[0m\u001b[0;34m\u001b[0m\u001b[0;34m\u001b[0m\u001b[0m\n\u001b[1;32m      4\u001b[0m \u001b[0;34m\u001b[0m\u001b[0m\n\u001b[1;32m      5\u001b[0m \u001b[0mprint\u001b[0m\u001b[0;34m(\u001b[0m\u001b[0;34mf\"GeoTIFF saved to {output_tif_path}\"\u001b[0m\u001b[0;34m)\u001b[0m\u001b[0;34m\u001b[0m\u001b[0;34m\u001b[0m\u001b[0m\n",
      "\u001b[0;31mModuleNotFoundError\u001b[0m: No module named 'rioxarray'"
     ]
    }
   ],
   "source": [
    "import rioxarray\n",
    "output_tif_path = \"wind_speed.tif\"\n",
    "data_to_plot.rio.to_raster(output_tif_path)\n",
    "\n",
    "print(f\"GeoTIFF saved to {output_tif_path}\")"
   ]
  },
  {
   "cell_type": "code",
   "execution_count": null,
   "metadata": {},
   "outputs": [],
   "source": []
  }
 ],
 "metadata": {
  "kernelspec": {
   "display_name": "Python 3",
   "language": "python",
   "name": "python3"
  },
  "language_info": {
   "codemirror_mode": {
    "name": "ipython",
    "version": 3
   },
   "file_extension": ".py",
   "mimetype": "text/x-python",
   "name": "python",
   "nbconvert_exporter": "python",
   "pygments_lexer": "ipython3",
   "version": "3.7.3"
  }
 },
 "nbformat": 4,
 "nbformat_minor": 2
}
