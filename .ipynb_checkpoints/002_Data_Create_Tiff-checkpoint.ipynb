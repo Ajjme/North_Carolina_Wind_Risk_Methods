{
 "cells": [
  {
   "cell_type": "code",
   "execution_count": null,
   "metadata": {},
   "outputs": [],
   "source": [
    "#what is in the shared Space?"
   ]
  },
  {
   "cell_type": "code",
   "execution_count": 1,
   "metadata": {},
   "outputs": [
    {
     "name": "stdout",
     "output_type": "stream",
     "text": [
      "monthly_max.nc\n",
      "monthly_mean.nc\n"
     ]
    }
   ],
   "source": [
    "%%bash\n",
    "ls /shared_space/ACV/summary_files"
   ]
  },
  {
   "cell_type": "code",
   "execution_count": null,
   "metadata": {},
   "outputs": [],
   "source": [
    "%%bash\n",
    "ls /shared_space/ACV/extracted_raw/mag_dir"
   ]
  },
  {
   "cell_type": "code",
   "execution_count": 11,
   "metadata": {},
   "outputs": [],
   "source": [
    "import numpy as np\n",
    "import xarray as xr\n",
    "import matplotlib.pyplot as plt\n",
    "import glob\n",
    "import cartopy.crs as ccrs\n",
    "import cartopy.feature as cfeature\n",
    "import geopandas as gpd\n",
    "import rasterio as rs\n",
    "import cartopy\n",
    "import os\n",
    "import pyproj\n",
    "from rasterio import mask\n",
    "import shapely\n",
    "import pandas as pd\n",
    "import seaborn as sns"
   ]
  },
  {
   "cell_type": "code",
   "execution_count": 15,
   "metadata": {},
   "outputs": [],
   "source": [
    "## create a class to allow for easy generation of maps, files, and dataframes\n",
    "class map_generator:\n",
    "    def __init__(self, list_files):\n",
    "        self.file_names=list_files\n",
    "     \n",
    "    ## finds the max windspeed of a given year. returns a nc file\n",
    "    def agg_max(self,year):\n",
    "        map_files=[file for file in self.file_names if file[-9:-5]==year]\n",
    "        for i,file in enumerate(map_files):\n",
    "            fp=xr.open_dataset(file)\n",
    "            if i==0:\n",
    "                max_mag=fp.max(dim=['Time'])\n",
    "            else:\n",
    "                max_mag_month=fp.max(dim=['Time'])\n",
    "                max_mag=xr.concat([max_mag,max_mag_month],dim='Time')\n",
    "        max_value=max_mag.max(dim=['Time'])['mag']\n",
    "        return max_value\n",
    "    \n",
    "    ## finds the mean wind speed of a given year. returns an nc file\n",
    "    def agg_mean(self,year):\n",
    "        map_files=[file for file in self.file_names if file[-9:-5]==year]\n",
    "        for i,file in enumerate(map_files):\n",
    "            fp=xr.open_dataset(file)\n",
    "            if i==0:\n",
    "                mean_mag=fp.mean(dim=['Time'])\n",
    "            else:\n",
    "                mean_mag_month=fp.mean(dim=['Time'])\n",
    "                mean_mag=xr.concat([mean_mag,mean_mag_month],dim='Time')\n",
    "        mean_value=mean_mag.max(dim=['Time'])['mag']\n",
    "        return mean_value\n",
    "    \n",
    "    ## converts nc to tif file. nc file must be only one time step\n",
    "    def dem_to_tif(self,dem,output_file='/shared_space/ACV/tif_files/placeholder.tif'):\n",
    "        nc_file='/shared_space/ACV/inter_files/nc_to_translate.nc'\n",
    "        inter_file='/shared_space/ACV/inter_files/inter_file.tif'\n",
    "        output_file='/shared_space/ACV/inter_files/output_file.tif'\n",
    "        if os.path.exists(nc_file):\n",
    "            os.remove(nc_file)\n",
    "        if os.path.exists(inter_file):\n",
    "            os.remove(inter_file)\n",
    "        dem.to_netcdf(nc_file)\n",
    "        string_1=\"gdal_translate -a_srs '+proj=lcc +a=6370000 +b=6370000 +lon_0=-97.899994 +lat_0=39.100006 +lat_1=30.0 +lat_2=50.0 +datum=WGS84 +units=m +no_defs' -a_ullr 1144000.0 8000.0 2084000.0 -528000.0 %s %s\"\n",
    "        string_2=\"gdalwarp -overwrite -r average -s_srs '+proj=lcc +a=6370000 +b=6370000 +lon_0=-97.899994 +lat_0=39.100006 +lat_1=30.0 +lat_2=50.0 \\\n",
    "        +datum=WGS84 +units=m +no_defs' -t_srs EPSG:4326 %s %s\"\n",
    "        os.system(string_1%(nc_file,inter_file))\n",
    "        os.system(string_2%(inter_file,output_file))\n",
    "        return rs.open(output_file)\n",
    "   \n",
    "    ## plots tif file and intersects countys on plot. Prints intersected df as well\n",
    "    def plotter(self,year,max_mean,county=True):\n",
    "        if max_mean=='max':\n",
    "            agg_dem=self.agg_max(year)\n",
    "            print_type='Max'\n",
    "        elif max_mean=='mean':\n",
    "            agg_dem=self.agg_mean(year)\n",
    "            print_type='Mean'\n",
    "        else:\n",
    "            print('cannot plot max_mean')\n",
    "\n",
    "        plot_fp=all_data.dem_to_tif(agg_dem)\n",
    "        dem=plot_fp.read(1)\n",
    "        extent=[plot_fp.bounds[0],plot_fp.bounds[2],plot_fp.bounds[1],plot_fp.bounds[3]]\n",
    "        \n",
    "        county_fp=gpd.read_file('/shared_space/ACV/county_shp/NCDOT_County_Boundaries.shp')\n",
    "        county_fp=county_fp.to_crs('EPSG:4326')\n",
    "        county_fp['geometry'] = county_fp['geometry'].apply(lambda geometry: shapely.ops.transform(lambda x, y: (y, x), geometry))\n",
    "\n",
    "        #extent=[lons.min(), lons.max(), lats.min(), lats.max()]\n",
    "        fig,ax=plt.subplots(figsize=(12, 10), subplot_kw={'projection': ccrs.PlateCarree()})\n",
    "        c = ax.imshow(dem, transform=ccrs.PlateCarree(), cmap='viridis',origin='upper',extent=extent) \n",
    "        ax.set_title('%s %s Wind Speed'%(year,print_type))   \n",
    "        if county==True:\n",
    "            ax.add_geometries(county_fp.geometry, crs = ccrs.PlateCarree(),edgecolor = 'black',facecolor='none')\n",
    "        plt.show()\n",
    "        \n",
    "        ## intersect the shapefile with the tif\n",
    "        output_arrays=county_fp.apply(lambda x: mask.mask(plot_fp, [x['geometry']])[0][0,:,:],axis=1)\n",
    "        output_arrays = output_arrays.apply(lambda arr: np.nan_to_num(arr, nan=-99999))\n",
    "\n",
    "        speeds={}\n",
    "        for i,county in enumerate(output_arrays):\n",
    "            speeds[county_fp['CountyName'][i]]=plot_fp.read(1)[output_arrays[i]!=-99999]\n",
    "    \n",
    "        results_df=pd.DataFrame([])\n",
    "        results_df['County']=list(speeds.keys())\n",
    "        results_df['mean']=results_df.apply(lambda x: np.mean(speeds[x['County']]),axis=1)\n",
    "        results_df['max']=results_df.apply(lambda x: np.max(speeds[x['County']]),axis=1)\n",
    "        \n",
    "        return results_df\n",
    "        \n",
    "cdf_list=glob.glob('/shared_space/ACV/extracted_raw/mag_dir/*')\n",
    "all_data=map_generator(cdf_list)"
   ]
  },
  {
   "cell_type": "code",
   "execution_count": 18,
   "metadata": {},
   "outputs": [
    {
     "name": "stdout",
     "output_type": "stream",
     "text": [
      "TIFF file generated at: windspeed_2005_max.tif\n"
     ]
    }
   ],
   "source": [
    "# Specify the year and aggregation type\n",
    "year_of_interest = '2005'\n",
    "agg_type = 'max'\n",
    "\n",
    "# Generate the aggregated data for max wind speed in the year 2005\n",
    "if agg_type == 'max':\n",
    "    aggregated_data = all_data.agg_max(year_of_interest)\n",
    "elif agg_type == 'mean':\n",
    "    aggregated_data = all_data.agg_mean(year_of_interest)\n",
    "else:\n",
    "    raise ValueError(\"Invalid aggregation type. Use 'max' or 'mean'.\")\n",
    "\n",
    "# Convert the aggregated data to a TIFF file\n",
    "output_tif_path = 'windspeed_2005_max.tif'\n",
    "tif_file = all_data.dem_to_tif(aggregated_data, output_file=output_tif_path)\n",
    "\n",
    "# Output path of the generated TIFF file\n",
    "print(f\"TIFF file generated at: {output_tif_path}\")\n"
   ]
  },
  {
   "cell_type": "code",
   "execution_count": 17,
   "metadata": {},
   "outputs": [
    {
     "ename": "RasterioIOError",
     "evalue": "/shared_space/ACV/tif_files/windspeed_2005_max.tif: No such file or directory",
     "output_type": "error",
     "traceback": [
      "\u001b[0;31m\u001b[0m",
      "\u001b[0;31mCPLE_OpenFailedError\u001b[0mTraceback (most recent call last)",
      "\u001b[0;32mrasterio/_base.pyx\u001b[0m in \u001b[0;36mrasterio._base.DatasetBase.__init__\u001b[0;34m()\u001b[0m\n",
      "\u001b[0;32mrasterio/_shim.pyx\u001b[0m in \u001b[0;36mrasterio._shim.open_dataset\u001b[0;34m()\u001b[0m\n",
      "\u001b[0;32mrasterio/_err.pyx\u001b[0m in \u001b[0;36mrasterio._err.exc_wrap_pointer\u001b[0;34m()\u001b[0m\n",
      "\u001b[0;31mCPLE_OpenFailedError\u001b[0m: /shared_space/ACV/tif_files/windspeed_2005_max.tif: No such file or directory",
      "\nDuring handling of the above exception, another exception occurred:\n",
      "\u001b[0;31mRasterioIOError\u001b[0mTraceback (most recent call last)",
      "\u001b[0;32m<ipython-input-17-f909b1f4bf2c>\u001b[0m in \u001b[0;36m<module>\u001b[0;34m\u001b[0m\n\u001b[1;32m      9\u001b[0m \u001b[0;34m\u001b[0m\u001b[0m\n\u001b[1;32m     10\u001b[0m \u001b[0;31m# Load the TIFF file using rasterio\u001b[0m\u001b[0;34m\u001b[0m\u001b[0;34m\u001b[0m\u001b[0;34m\u001b[0m\u001b[0m\n\u001b[0;32m---> 11\u001b[0;31m \u001b[0;32mwith\u001b[0m \u001b[0mrs\u001b[0m\u001b[0;34m.\u001b[0m\u001b[0mopen\u001b[0m\u001b[0;34m(\u001b[0m\u001b[0mtif_file_path\u001b[0m\u001b[0;34m)\u001b[0m \u001b[0;32mas\u001b[0m \u001b[0msrc\u001b[0m\u001b[0;34m:\u001b[0m\u001b[0;34m\u001b[0m\u001b[0;34m\u001b[0m\u001b[0m\n\u001b[0m\u001b[1;32m     12\u001b[0m     \u001b[0mdem\u001b[0m \u001b[0;34m=\u001b[0m \u001b[0msrc\u001b[0m\u001b[0;34m.\u001b[0m\u001b[0mread\u001b[0m\u001b[0;34m(\u001b[0m\u001b[0;36m1\u001b[0m\u001b[0;34m)\u001b[0m  \u001b[0;31m# Read the first band of the TIFF\u001b[0m\u001b[0;34m\u001b[0m\u001b[0;34m\u001b[0m\u001b[0m\n\u001b[1;32m     13\u001b[0m     \u001b[0mextent\u001b[0m \u001b[0;34m=\u001b[0m \u001b[0;34m[\u001b[0m\u001b[0msrc\u001b[0m\u001b[0;34m.\u001b[0m\u001b[0mbounds\u001b[0m\u001b[0;34m.\u001b[0m\u001b[0mleft\u001b[0m\u001b[0;34m,\u001b[0m \u001b[0msrc\u001b[0m\u001b[0;34m.\u001b[0m\u001b[0mbounds\u001b[0m\u001b[0;34m.\u001b[0m\u001b[0mright\u001b[0m\u001b[0;34m,\u001b[0m \u001b[0msrc\u001b[0m\u001b[0;34m.\u001b[0m\u001b[0mbounds\u001b[0m\u001b[0;34m.\u001b[0m\u001b[0mbottom\u001b[0m\u001b[0;34m,\u001b[0m \u001b[0msrc\u001b[0m\u001b[0;34m.\u001b[0m\u001b[0mbounds\u001b[0m\u001b[0;34m.\u001b[0m\u001b[0mtop\u001b[0m\u001b[0;34m]\u001b[0m  \u001b[0;31m# Get bounds\u001b[0m\u001b[0;34m\u001b[0m\u001b[0;34m\u001b[0m\u001b[0m\n",
      "\u001b[0;32m/opt/conda/lib/python3.7/site-packages/rasterio/env.py\u001b[0m in \u001b[0;36mwrapper\u001b[0;34m(*args, **kwds)\u001b[0m\n\u001b[1;32m    443\u001b[0m \u001b[0;34m\u001b[0m\u001b[0m\n\u001b[1;32m    444\u001b[0m         \u001b[0;32mwith\u001b[0m \u001b[0menv_ctor\u001b[0m\u001b[0;34m(\u001b[0m\u001b[0msession\u001b[0m\u001b[0;34m=\u001b[0m\u001b[0msession\u001b[0m\u001b[0;34m)\u001b[0m\u001b[0;34m:\u001b[0m\u001b[0;34m\u001b[0m\u001b[0;34m\u001b[0m\u001b[0m\n\u001b[0;32m--> 445\u001b[0;31m             \u001b[0;32mreturn\u001b[0m \u001b[0mf\u001b[0m\u001b[0;34m(\u001b[0m\u001b[0;34m*\u001b[0m\u001b[0margs\u001b[0m\u001b[0;34m,\u001b[0m \u001b[0;34m**\u001b[0m\u001b[0mkwds\u001b[0m\u001b[0;34m)\u001b[0m\u001b[0;34m\u001b[0m\u001b[0;34m\u001b[0m\u001b[0m\n\u001b[0m\u001b[1;32m    446\u001b[0m \u001b[0;34m\u001b[0m\u001b[0m\n\u001b[1;32m    447\u001b[0m     \u001b[0;32mreturn\u001b[0m \u001b[0mwrapper\u001b[0m\u001b[0;34m\u001b[0m\u001b[0;34m\u001b[0m\u001b[0m\n",
      "\u001b[0;32m/opt/conda/lib/python3.7/site-packages/rasterio/__init__.py\u001b[0m in \u001b[0;36mopen\u001b[0;34m(fp, mode, driver, width, height, count, crs, transform, dtype, nodata, sharing, **kwargs)\u001b[0m\n\u001b[1;32m    214\u001b[0m         \u001b[0;31m# None.\u001b[0m\u001b[0;34m\u001b[0m\u001b[0;34m\u001b[0m\u001b[0;34m\u001b[0m\u001b[0m\n\u001b[1;32m    215\u001b[0m         \u001b[0;32mif\u001b[0m \u001b[0mmode\u001b[0m \u001b[0;34m==\u001b[0m \u001b[0;34m'r'\u001b[0m\u001b[0;34m:\u001b[0m\u001b[0;34m\u001b[0m\u001b[0;34m\u001b[0m\u001b[0m\n\u001b[0;32m--> 216\u001b[0;31m             \u001b[0ms\u001b[0m \u001b[0;34m=\u001b[0m \u001b[0mDatasetReader\u001b[0m\u001b[0;34m(\u001b[0m\u001b[0mpath\u001b[0m\u001b[0;34m,\u001b[0m \u001b[0mdriver\u001b[0m\u001b[0;34m=\u001b[0m\u001b[0mdriver\u001b[0m\u001b[0;34m,\u001b[0m \u001b[0msharing\u001b[0m\u001b[0;34m=\u001b[0m\u001b[0msharing\u001b[0m\u001b[0;34m,\u001b[0m \u001b[0;34m**\u001b[0m\u001b[0mkwargs\u001b[0m\u001b[0;34m)\u001b[0m\u001b[0;34m\u001b[0m\u001b[0;34m\u001b[0m\u001b[0m\n\u001b[0m\u001b[1;32m    217\u001b[0m         \u001b[0;32melif\u001b[0m \u001b[0mmode\u001b[0m \u001b[0;34m==\u001b[0m \u001b[0;34m'r+'\u001b[0m\u001b[0;34m:\u001b[0m\u001b[0;34m\u001b[0m\u001b[0;34m\u001b[0m\u001b[0m\n\u001b[1;32m    218\u001b[0m             \u001b[0ms\u001b[0m \u001b[0;34m=\u001b[0m \u001b[0mget_writer_for_path\u001b[0m\u001b[0;34m(\u001b[0m\u001b[0mpath\u001b[0m\u001b[0;34m)\u001b[0m\u001b[0;34m(\u001b[0m\u001b[0mpath\u001b[0m\u001b[0;34m,\u001b[0m \u001b[0mmode\u001b[0m\u001b[0;34m,\u001b[0m \u001b[0mdriver\u001b[0m\u001b[0;34m=\u001b[0m\u001b[0mdriver\u001b[0m\u001b[0;34m,\u001b[0m \u001b[0msharing\u001b[0m\u001b[0;34m=\u001b[0m\u001b[0msharing\u001b[0m\u001b[0;34m,\u001b[0m \u001b[0;34m**\u001b[0m\u001b[0mkwargs\u001b[0m\u001b[0;34m)\u001b[0m\u001b[0;34m\u001b[0m\u001b[0;34m\u001b[0m\u001b[0m\n",
      "\u001b[0;32mrasterio/_base.pyx\u001b[0m in \u001b[0;36mrasterio._base.DatasetBase.__init__\u001b[0;34m()\u001b[0m\n",
      "\u001b[0;31mRasterioIOError\u001b[0m: /shared_space/ACV/tif_files/windspeed_2005_max.tif: No such file or directory"
     ]
    }
   ],
   "source": [
    "import rasterio as rs\n",
    "import matplotlib.pyplot as plt\n",
    "import cartopy.crs as ccrs\n",
    "import geopandas as gpd\n",
    "import shapely.ops\n",
    "\n",
    "# Path to the generated TIFF file\n",
    "tif_file_path = '/shared_space/ACV/tif_files/windspeed_2005_max.tif'\n",
    "\n",
    "# Load the TIFF file using rasterio\n",
    "with rs.open(tif_file_path) as src:\n",
    "    dem = src.read(1)  # Read the first band of the TIFF\n",
    "    extent = [src.bounds.left, src.bounds.right, src.bounds.bottom, src.bounds.top]  # Get bounds\n",
    "\n",
    "# Set up the map projection and figure\n",
    "fig, ax = plt.subplots(figsize=(12, 10), subplot_kw={'projection': ccrs.PlateCarree()})\n",
    "\n",
    "# Plot the raster data\n",
    "raster_plot = ax.imshow(dem, extent=extent, transform=ccrs.PlateCarree(), cmap='viridis', origin='upper')\n",
    "ax.set_title('Maximum Wind Speed - 2005')\n",
    "plt.colorbar(raster_plot, ax=ax, orientation='vertical', label='Wind Speed (units)')\n",
    "\n",
    "# Optional: Overlay county boundaries\n",
    "county_shapefile = '/shared_space/ACV/county_shp/NCDOT_County_Boundaries.shp'\n",
    "county_fp = gpd.read_file(county_shapefile).to_crs('EPSG:4326')  # Ensure CRS matches the TIFF\n",
    "county_fp['geometry'] = county_fp['geometry'].apply(\n",
    "    lambda geometry: shapely.ops.transform(lambda x, y: (y, x), geometry)\n",
    ")\n",
    "ax.add_geometries(county_fp.geometry, crs=ccrs.PlateCarree(), edgecolor='black', facecolor='none')\n",
    "\n",
    "# Show the map\n",
    "plt.show()\n"
   ]
  },
  {
   "cell_type": "code",
   "execution_count": null,
   "metadata": {},
   "outputs": [],
   "source": []
  }
 ],
 "metadata": {
  "kernelspec": {
   "display_name": "Python 3",
   "language": "python",
   "name": "python3"
  },
  "language_info": {
   "codemirror_mode": {
    "name": "ipython",
    "version": 3
   },
   "file_extension": ".py",
   "mimetype": "text/x-python",
   "name": "python",
   "nbconvert_exporter": "python",
   "pygments_lexer": "ipython3",
   "version": "3.7.3"
  }
 },
 "nbformat": 4,
 "nbformat_minor": 2
}
