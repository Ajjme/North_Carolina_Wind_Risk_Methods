{
 "cells": [
  {
   "cell_type": "code",
   "execution_count": null,
   "metadata": {},
   "outputs": [],
   "source": []
  },
  {
   "cell_type": "code",
   "execution_count": 10,
   "metadata": {},
   "outputs": [],
   "source": [
    "import rasterio\n",
    "import geopandas as gpd\n",
    "import matplotlib.pyplot as plt\n",
    "from rasterio.plot import show\n",
    "import numpy as np"
   ]
  },
  {
   "cell_type": "code",
   "execution_count": 2,
   "metadata": {},
   "outputs": [],
   "source": [
    "# Open the first TIFF file\n",
    "with rasterio.open(\"/shared_space/ACV/nlcd_nc0.1.tif\") as src1:\n",
    "    nlcd_data = src1.read(1)  # Read the first band\n",
    "\n",
    "# Open the second TIFF file\n",
    "with rasterio.open(\"/shared_space/ACV/inter_files/output_file.tif\") as src2:\n",
    "    output_data = src2.read(1)  # Read the first band\n"
   ]
  },
  {
   "cell_type": "code",
   "execution_count": 4,
   "metadata": {},
   "outputs": [
    {
     "name": "stderr",
     "output_type": "stream",
     "text": [
      "/opt/conda/lib/python3.7/site-packages/ipykernel_launcher.py:22: RuntimeWarning: invalid value encountered in greater\n"
     ]
    }
   ],
   "source": [
    "import rasterio\n",
    "from rasterio.enums import Resampling\n",
    "\n",
    "# Open both rasters\n",
    "with rasterio.open(\"/shared_space/ACV/nlcd_nc0.1.tif\") as src1:\n",
    "    nlcd_data = src1.read(1)  # Read the first band\n",
    "    metadata = src1.meta  # Get the metadata of the first raster\n",
    "\n",
    "# Open the second raster\n",
    "with rasterio.open(\"/shared_space/ACV/inter_files/output_file.tif\") as src2:\n",
    "    output_data = src2.read(1)  # Read the first band\n",
    "\n",
    "    # Resample the second raster to match the first one\n",
    "    output_resampled = src2.read(\n",
    "        1,\n",
    "        out_shape=(src1.count, nlcd_data.shape[0], nlcd_data.shape[1]),\n",
    "        resampling=Resampling.nearest  # Use nearest neighbor for resampling\n",
    "    )\n",
    "\n",
    "# Now you can compare the resampled output_data with nlcd_data\n",
    "condition_nlcd = np.isin(nlcd_data, [21, 22, 23, 24]) #urban Land type \n",
    "condition_output = output_resampled > 20 #wind speed of atleast 20m/s\n",
    "\n",
    "# Combine the conditions to find the overlap\n",
    "result = condition_nlcd & condition_output\n",
    "\n"
   ]
  },
  {
   "cell_type": "code",
   "execution_count": 5,
   "metadata": {},
   "outputs": [],
   "source": [
    "# Create a new output file to save the result\n",
    "output_path = \"combined_result.tif\"\n",
    "\n",
    "# Get the metadata from the first raster to maintain the same shape and georeferencing\n",
    "with rasterio.open(\"/shared_space/ACV/nlcd_nc0.1.tif\") as src1:\n",
    "    metadata = src1.meta\n",
    "\n",
    "# Update the metadata to store boolean values (0 or 1) for the result\n",
    "metadata.update(dtype=rasterio.uint8, count=1)\n",
    "\n",
    "# Write the result to the new file\n",
    "with rasterio.open(output_path, 'w', **metadata) as dst:\n",
    "    dst.write(result.astype(rasterio.uint8), 1)\n"
   ]
  },
  {
   "cell_type": "code",
   "execution_count": 20,
   "metadata": {},
   "outputs": [
    {
     "data": {
      "image/png": "[encoded data removed]",
      "text/plain": [
       "<Figure size 720x432 with 2 Axes>"
      ]
     },
     "metadata": {
      "needs_background": "light"
     },
     "output_type": "display_data"
    }
   ],
   "source": [
    "import geopandas as gpd\n",
    "\n",
    "#import geodatasets\n",
    "import contextily as cx\n",
    "\n",
    "# Open the combined_result.tif file\n",
    "with rasterio.open(\"combined_result.tif\") as src:\n",
    "    combined_result_data = src.read(1)  # Read the first band (the result)\n",
    "    metadata = src.meta  # Get metadata for the raster (for axis and georeferencing)\n",
    "#cx.add_basemap(ax, source=cx.providers.CartoDB.Positron)\n",
    "# Plot the combined result\n",
    "plt.figure(figsize=(10, 6))\n",
    "plt.imshow(combined_result_data, cmap='viridis', interpolation='none')\n",
    "plt.colorbar(label='Value')\n",
    "plt.title('Combined Result: Raster values meeting conditions')\n",
    "plt.xlabel('Column Index')\n",
    "plt.ylabel('Row Index')\n",
    "plt.show()\n"
   ]
  },
  {
   "cell_type": "code",
   "execution_count": 18,
   "metadata": {},
   "outputs": [
    {
     "name": "stderr",
     "output_type": "stream",
     "text": [
      "/opt/conda/lib/python3.7/site-packages/ipykernel_launcher.py:37: RuntimeWarning: invalid value encountered in greater\n"
     ]
    },
    {
     "ename": "ValueError",
     "evalue": "operands could not be broadcast together with shapes (800,1300) (159,279) ",
     "output_type": "error",
     "traceback": [
      "\u001b[0;31m\u001b[0m",
      "\u001b[0;31mValueError\u001b[0mTraceback (most recent call last)",
      "\u001b[0;32m<ipython-input-18-45f66b687373>\u001b[0m in \u001b[0;36m<module>\u001b[0;34m\u001b[0m\n\u001b[1;32m     38\u001b[0m \u001b[0;34m\u001b[0m\u001b[0m\n\u001b[1;32m     39\u001b[0m \u001b[0;31m# Combine the conditions to find the overlap\u001b[0m\u001b[0;34m\u001b[0m\u001b[0;34m\u001b[0m\u001b[0;34m\u001b[0m\u001b[0m\n\u001b[0;32m---> 40\u001b[0;31m \u001b[0mresult\u001b[0m \u001b[0;34m=\u001b[0m \u001b[0mcondition_nlcd\u001b[0m \u001b[0;34m&\u001b[0m \u001b[0mcondition_output\u001b[0m\u001b[0;34m\u001b[0m\u001b[0;34m\u001b[0m\u001b[0m\n\u001b[0m\u001b[1;32m     41\u001b[0m \u001b[0;34m\u001b[0m\u001b[0m\n\u001b[1;32m     42\u001b[0m \u001b[0;31m# Create a new output file to save the result\u001b[0m\u001b[0;34m\u001b[0m\u001b[0;34m\u001b[0m\u001b[0;34m\u001b[0m\u001b[0m\n",
      "\u001b[0;31mValueError\u001b[0m: operands could not be broadcast together with shapes (800,1300) (159,279) "
     ]
    }
   ],
   "source": []
  },
  {
   "cell_type": "code",
   "execution_count": null,
   "metadata": {},
   "outputs": [],
   "source": []
  }
 ],
 "metadata": {
  "kernelspec": {
   "display_name": "Python 3",
   "language": "python",
   "name": "python3"
  },
  "language_info": {
   "codemirror_mode": {
    "name": "ipython",
    "version": 3
   },
   "file_extension": ".py",
   "mimetype": "text/x-python",
   "name": "python",
   "nbconvert_exporter": "python",
   "pygments_lexer": "ipython3",
   "version": "3.7.3"
  }
 },
 "nbformat": 4,
 "nbformat_minor": 2
}
