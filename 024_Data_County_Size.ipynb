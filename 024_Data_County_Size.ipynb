{
 "cells": [
  {
   "cell_type": "code",
   "execution_count": null,
   "metadata": {},
   "outputs": [],
   "source": [
    "Download size of counties"
   ]
  },
  {
   "cell_type": "code",
   "execution_count": 1,
   "metadata": {},
   "outputs": [
    {
     "name": "stdout",
     "output_type": "stream",
     "text": [
      "File downloaded successfully!\n"
     ]
    }
   ],
   "source": [
    "import requests\n",
    "\n",
    "# URL of the file\n",
    "url = \"https://www2.census.gov/geo/docs/maps-data/data/gazetteer/2020_Gazetteer/2020_gaz_counties_37.txt\"\n",
    "\n",
    "# Send a GET request to fetch the raw text\n",
    "response = requests.get(url)\n",
    "\n",
    "# Save the content of the response to a local file\n",
    "with open('2020_gaz_counties_37.txt', 'wb') as f:\n",
    "    f.write(response.content)\n",
    "\n",
    "print(\"File downloaded successfully!\")"
   ]
  },
  {
   "cell_type": "code",
   "execution_count": 2,
   "metadata": {},
   "outputs": [
    {
     "name": "stdout",
     "output_type": "stream",
     "text": [
      "  USPS  GEOID  ANSICODE              NAME       ALAND    AWATER  ALAND_SQMI  \\\n",
      "0   NC  37001   1008531   Alamance County  1096735775  27940817     423.452   \n",
      "1   NC  37003   1008532  Alexander County   673358184   9445988     259.985   \n",
      "2   NC  37005   1008533  Alleghany County   608220280   3687222     234.835   \n",
      "3   NC  37007   1008534      Anson County  1376478143  14603213     531.461   \n",
      "4   NC  37009   1008535       Ashe County  1104018852   8062960     426.264   \n",
      "\n",
      "   AWATER_SQMI   INTPTLAT  \\\n",
      "0       10.788  36.043954   \n",
      "1        3.647  35.920951   \n",
      "2        1.424  36.489356   \n",
      "3        5.638  34.974972   \n",
      "4        3.113  36.443469   \n",
      "\n",
      "   INTPTLONG                                                                                                                 \n",
      "0                                         -79.400573                                                                         \n",
      "1                                         -81.177467                                                                         \n",
      "2                                         -81.132299                                                                         \n",
      "3                                         -80.109763                                                                         \n",
      "4                                         -81.499334                                                                         \n"
     ]
    }
   ],
   "source": [
    "import pandas as pd\n",
    "\n",
    "# Read the downloaded file into a pandas DataFrame\n",
    "data = pd.read_csv('2020_gaz_counties_37.txt', delimiter='\\t')  # Adjust delimiter if necessary\n",
    "\n",
    "# Display the first few rows to inspect\n",
    "print(data.head())"
   ]
  },
  {
   "cell_type": "code",
   "execution_count": null,
   "metadata": {},
   "outputs": [],
   "source": []
  }
 ],
 "metadata": {
  "kernelspec": {
   "display_name": "Python 3",
   "language": "python",
   "name": "python3"
  },
  "language_info": {
   "codemirror_mode": {
    "name": "ipython",
    "version": 3
   },
   "file_extension": ".py",
   "mimetype": "text/x-python",
   "name": "python",
   "nbconvert_exporter": "python",
   "pygments_lexer": "ipython3",
   "version": "3.7.3"
  }
 },
 "nbformat": 4,
 "nbformat_minor": 2
}
